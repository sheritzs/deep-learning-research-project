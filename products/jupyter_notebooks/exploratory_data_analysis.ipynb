{
 "cells": [
  {
   "cell_type": "markdown",
   "id": "220f11ee",
   "metadata": {},
   "source": [
    "# Package Imports"
   ]
  },
  {
   "cell_type": "code",
   "execution_count": 2,
   "id": "154023cd",
   "metadata": {},
   "outputs": [],
   "source": [
    "# Data Processing\n",
    "\n",
    "import data_processing_code.processing_functions as pf\n",
    "\n",
    "from datetime import datetime as dt\n",
    "# import json\n",
    "import numpy as np\n",
    "import pandas as pd\n",
    "# import urllib.request\n",
    "\n",
    "# Data Visualization\n",
    "import matplotlib.pyplot as plt\n",
    "import seaborn as sns\n",
    "\n",
    "# Modeling\n",
    "from statsmodels.tsa.seasonal import STL\n",
    "\n",
    "\n",
    "import warnings\n",
    "warnings.filterwarnings(\"ignore\")"
   ]
  },
  {
   "cell_type": "markdown",
   "id": "75e9534d",
   "metadata": {},
   "source": [
    "# Data Acquisition \n",
    "\n",
    "Our data is sourced through Open-Meteo's Historical Weather API.\n",
    "\n",
    "## Selections for Data Download \n",
    "\n",
    "**General Details:**\n",
    "\n",
    "- Data Source: https://open-meteo.com/en/docs/historical-weather-api\n",
    "\n",
    "- API Call: https://archive-api.open-meteo.com/v1/era5?latitude=43.70011&longitude=-79.4163&start_date=1984-01-01&end_date=2023-12-31&hourly=temperature_2m,relative_humidity_2m,dew_point_2m,precipitation,cloud_cover,wind_speed_10m,sunshine_duration&timezone=America%2FNew_York\n",
    "\n",
    "https://archive-api.open-meteo.com/v1/era5?latitude=43.70011&longitude=-79.4163&start_date=1984-01-01&end_date=2023-12-31&hourly=temperature_2m,relative_humidity_2m,dew_point_2m,precipitation,cloud_cover,wind_speed_10m,sunshine_duration,shortwave_radiation&timezone=America%2FNew_York\n",
    "\n",
    "Per the documentation, we specify era5 in the API call, in order to ensure data consistency and to prevent unintentional alterations that may have arised from the adoption of different weather model upgrades. \n",
    "\n",
    "\n",
    "**Toronto Details:**\n",
    "\n",
    "- Latitude: 43.70011  \n",
    "- Longitude: -79.4163  \n",
    "- Timezone: America/New_York  \n",
    "- Start Date: 1984-01-01  \n",
    "- End Date: 2023-12-31  \n",
    "\n",
    "We will primarily focus our analyses on data between 1994 and 2023; however, we are downloading an additional decade's worth, in case it becomes necessary. \n",
    "\n",
    "\n",
    "Although Daily Weather Variables are available for selection, we opt for Hourly Variables instead, so that we can include Cloud Cover information in our analyses. \n",
    "\n",
    "\n",
    "**Hourly Weather Variables:**\n",
    "- Temperature (2 m)\n",
    "- Relative Humidity (2 m)\n",
    "- Dew Point (2 m)\n",
    "- Precipitation (rain + snow)\n",
    "- Cloud Cover Total\n",
    "- Wind Speed (10 m)\n",
    "\n",
    "**Additional Variables:**\n",
    "- Sunshine Duration\n",
    "\n",
    "**Solar Radiation Variables:**\n",
    "- Shortwave Solar Radition GHI\n",
    "\n",
    "Although this variable will not be used in the experiments, we download it to assess the strength of its relationship to sunshine duration. \n",
    "\n",
    "**Settings:**\n",
    "\n",
    "- Temperature Unit: Celsius  \n",
    "- Wind Speed Unit: Km/h  \n",
    "- Precipitation Unit: Millimeter  \n",
    "- Timeformat: ISO 8601 (e.g. 2022-12-31)  \n"
   ]
  },
  {
   "cell_type": "code",
   "execution_count": 5,
   "id": "606299c9",
   "metadata": {},
   "outputs": [],
   "source": [
    "# Retrieve data from Open Meteo\n",
    "file_path = 'gdrive/MyDrive/MRP/data/'\n",
    "file_name = 'era5_data_toronto_retrieved_2024-07-12.json'\n",
    "api_call = 'https://archive-api.open-meteo.com/v1/archive?latitude=43.70011&longitude=-79.4163&start_date=1984-01-01&end_date=2023-12-31&hourly=temperature_2m,relative_humidity_2m,dew_point_2m,precipitation,cloud_cover,wind_speed_10m,sunshine_duration&timezone=America%2FNew_York'\n",
    "download_data(api_call, file_path, file_name)\n"
   ]
  },
  {
   "cell_type": "code",
   "execution_count": null,
   "id": "c2ec3095",
   "metadata": {},
   "outputs": [],
   "source": []
  }
 ],
 "metadata": {
  "kernelspec": {
   "display_name": "mrp",
   "language": "python",
   "name": "mrp"
  },
  "language_info": {
   "codemirror_mode": {
    "name": "ipython",
    "version": 3
   },
   "file_extension": ".py",
   "mimetype": "text/x-python",
   "name": "python",
   "nbconvert_exporter": "python",
   "pygments_lexer": "ipython3",
   "version": "3.10.4"
  }
 },
 "nbformat": 4,
 "nbformat_minor": 5
}
